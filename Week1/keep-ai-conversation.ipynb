{
 "cells": [
  {
   "cell_type": "code",
   "execution_count": null,
   "id": "3d769bff-db13-400f-8fc9-9cc76455047a",
   "metadata": {},
   "outputs": [],
   "source": [
    "from openai import OpenAI\n",
    "from toyaikit.llm import OpenAIClient\n",
    "from toyaikit.chat import IPythonChatInterface\n",
    "from toyaikit.chat.runners import OpenAIResponsesRunner"
   ]
  },
  {
   "cell_type": "code",
   "execution_count": null,
   "id": "d7dc1079-3f28-48d5-846f-11aa2598c832",
   "metadata": {},
   "outputs": [],
   "source": [
    "openai_client = OpenAI()"
   ]
  },
  {
   "cell_type": "code",
   "execution_count": null,
   "id": "d4213444-31fe-4e16-89a2-e46b37449735",
   "metadata": {},
   "outputs": [],
   "source": [
    "system_prompt = \"\"\"\n",
    "You are an assistant who creates bedtime stories. \n",
    "Include emojis in the response. \n",
    "Ask the user follow-up questions\n",
    "\"\"\".strip()"
   ]
  },
  {
   "cell_type": "code",
   "execution_count": null,
   "id": "ad7d3c87-be62-4a4d-97ca-cc0393f1208c",
   "metadata": {},
   "outputs": [],
   "source": [
    "llm_client = OpenAIClient(\n",
    "    model='gpt-4o-mini',\n",
    "    client=openai_client\n",
    ")"
   ]
  },
  {
   "cell_type": "code",
   "execution_count": null,
   "id": "29e8d0be-8b7d-4069-9ec8-54d81161c400",
   "metadata": {},
   "outputs": [],
   "source": [
    "runner = OpenAIResponsesRunner(\n",
    "    tools=None,\n",
    "    developer_prompt=system_prompt,\n",
    "    chat_interface=IPythonChatInterface(),\n",
    "    llm_client=llm_client\n",
    ")"
   ]
  },
  {
   "cell_type": "code",
   "execution_count": null,
   "id": "75921032-14b3-4c5f-bf2a-e2649d3a46b5",
   "metadata": {},
   "outputs": [],
   "source": [
    "runner.run();"
   ]
  },
  {
   "cell_type": "code",
   "execution_count": null,
   "id": "60d6310d-2274-4dac-ab83-fe0a5b00227c",
   "metadata": {},
   "outputs": [],
   "source": []
  }
 ],
 "metadata": {
  "kernelspec": {
   "display_name": "Python 3 (ipykernel)",
   "language": "python",
   "name": "python3"
  },
  "language_info": {
   "codemirror_mode": {
    "name": "ipython",
    "version": 3
   },
   "file_extension": ".py",
   "mimetype": "text/x-python",
   "name": "python",
   "nbconvert_exporter": "python",
   "pygments_lexer": "ipython3",
   "version": "3.12.1"
  }
 },
 "nbformat": 4,
 "nbformat_minor": 5
}
