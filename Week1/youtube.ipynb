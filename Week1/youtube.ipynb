{
 "cells": [
  {
   "cell_type": "code",
   "execution_count": 1,
   "id": "22152c0a-0446-436a-85b1-2b525ba735a8",
   "metadata": {},
   "outputs": [
    {
     "name": "stdout",
     "output_type": "stream",
     "text": [
      "\u001b[2mResolved \u001b[1m164 packages\u001b[0m \u001b[2min 0.59ms\u001b[0m\u001b[0m\n",
      "\u001b[2mAudited \u001b[1m160 packages\u001b[0m \u001b[2min 99ms\u001b[0m\u001b[0m\n"
     ]
    }
   ],
   "source": [
    "!uv add youtube-transcript-api"
   ]
  },
  {
   "cell_type": "code",
   "execution_count": 23,
   "id": "d83ef2e2-f492-4920-8fa5-dc18ecc7a089",
   "metadata": {},
   "outputs": [],
   "source": [
    "from youtube_transcript_api import YouTubeTranscriptApi\n",
    "from openai import OpenAI\n",
    "from pydantic import BaseModel\n",
    "import pickle\n",
    "import datetime"
   ]
  },
  {
   "cell_type": "code",
   "execution_count": 24,
   "id": "0071ebb9-e329-447a-a049-6f6b3b304a84",
   "metadata": {},
   "outputs": [],
   "source": [
    "openai_client = OpenAI()"
   ]
  },
  {
   "cell_type": "code",
   "execution_count": 25,
   "id": "4463dad6-476c-4d36-851b-e2ef364bc070",
   "metadata": {},
   "outputs": [],
   "source": [
    "video_id = 'ph1PxZIkz1o'"
   ]
  },
  {
   "cell_type": "code",
   "execution_count": 26,
   "id": "2dac7bea-d97c-44a4-8c6c-3778c3fc68d3",
   "metadata": {},
   "outputs": [],
   "source": [
    "#!wget https://github.com/alexeygrigorev/ai-bootcamp-codespace/raw/refs/heads/main/week1/ph1PxZIkz1o.bin"
   ]
  },
  {
   "cell_type": "code",
   "execution_count": 27,
   "id": "8736c34f-1b1f-4d28-bada-950443913d3e",
   "metadata": {},
   "outputs": [],
   "source": [
    "with open(f'{video_id}.bin', 'rb') as f_in:\n",
    "    transcript = pickle.load(f_in)"
   ]
  },
  {
   "cell_type": "code",
   "execution_count": 30,
   "id": "2aed345d-2fb5-49af-9cb6-520462abcc47",
   "metadata": {},
   "outputs": [
    {
     "name": "stdout",
     "output_type": "stream",
     "text": [
      "[FetchedTranscriptSnippet(text='So hi everyone. Uh today we are going to', start=0.0, duration=5.04)]\n"
     ]
    },
    {
     "data": {
      "text/plain": [
       "list"
      ]
     },
     "execution_count": 30,
     "metadata": {},
     "output_type": "execute_result"
    }
   ],
   "source": [
    "print(transcript[:1])\n",
    "type(transcript[:1])"
   ]
  },
  {
   "cell_type": "code",
   "execution_count": 8,
   "id": "5c05e8dc-266d-4b48-9775-e4b5b3722efc",
   "metadata": {},
   "outputs": [],
   "source": [
    "def format_timestamp(seconds: float) -> str:\n",
    "    \"\"\"Convert seconds to H:MM:SS if > 1 hour, else M:SS\"\"\"\n",
    "    total_seconds = int(seconds)\n",
    "    hours, remainder = divmod(total_seconds, 3600)\n",
    "    minutes, secs = divmod(remainder, 60)\n",
    "\n",
    "    if hours > 0:\n",
    "        return f\"{hours}:{minutes:02}:{secs:02}\"\n",
    "    else:\n",
    "        return f\"{minutes}:{secs:02}\""
   ]
  },
  {
   "cell_type": "code",
   "execution_count": 9,
   "id": "8588a1d5-45db-434e-9f2b-de06c338db7f",
   "metadata": {},
   "outputs": [],
   "source": [
    "def make_subtitles(transcript) -> str:\n",
    "    lines = []\n",
    "\n",
    "    for entry in transcript:\n",
    "        ts = format_timestamp(entry.start)\n",
    "        text = entry.text.replace('\\n', ' ')\n",
    "        lines.append(ts + ' ' + text)\n",
    "\n",
    "    return '\\n'.join(lines)\n"
   ]
  },
  {
   "cell_type": "code",
   "execution_count": 10,
   "id": "81edae54-19ce-4b04-8813-cc85f42e353b",
   "metadata": {},
   "outputs": [],
   "source": [
    "subtitles = make_subtitles(transcript)"
   ]
  },
  {
   "cell_type": "code",
   "execution_count": 11,
   "id": "7b8c6d73-29a8-4291-aad6-1fdf171aaca9",
   "metadata": {},
   "outputs": [
    {
     "name": "stdout",
     "output_type": "stream",
     "text": [
      "0:00 So hi everyone. Uh today we are going to\n",
      "0:02 talk about our upcoming course. The\n",
      "0:05 upcoming course is called machine\n",
      "0:06 learning zoom camp. And um this is\n",
      "0:10 already I put the link in the\n",
      "0:12 description. So if you're watching um\n",
      "0:14 this video in recording or you're\n",
      "0:17 watching it live, you go here in the\n",
      "0:19 description after under this video and\n",
      "0:21 then you see a link course. uh click on\n",
      "0:25 that link and this bring you will bring\n",
      "0:27 you to\n",
      "0:29 this website this GitHub\n"
     ]
    }
   ],
   "source": [
    "print(subtitles[:500])"
   ]
  },
  {
   "cell_type": "code",
   "execution_count": 12,
   "id": "b13ae204-b941-4197-8573-37294b85a110",
   "metadata": {},
   "outputs": [],
   "source": [
    "instructions = \"\"\"\n",
    "Summarize the transcript and describe the main purpose of the video\n",
    "and the main ideas. \n",
    "\n",
    "Also output chapters with time. Use usual sentence case, not Title Case for the chapter.\n",
    "\n",
    "Output format: \n",
    "\n",
    "<OUTPUT>\n",
    "Summary\n",
    "\n",
    "timestamp chapter \n",
    "timestamp chapter\n",
    "...\n",
    "timestamp chapter\n",
    "</OUTPUT>\n",
    "\"\"\""
   ]
  },
  {
   "cell_type": "code",
   "execution_count": 13,
   "id": "c8499f0e-8f4a-49e6-b18f-8bf40bbc7d0e",
   "metadata": {},
   "outputs": [],
   "source": [
    "def llm(user_prompt, instructions=None, model=\"gpt-4o-mini\"):\n",
    "    messages = []\n",
    "\n",
    "    if instructions:\n",
    "        messages.append({\n",
    "            \"role\": \"system\",\n",
    "            \"content\": instructions\n",
    "        })\n",
    "\n",
    "    messages.append({\n",
    "        \"role\": \"user\",\n",
    "        \"content\": user_prompt\n",
    "    })\n",
    "\n",
    "    response = openai_client.responses.create(\n",
    "        model=model,\n",
    "        input=messages\n",
    "    )\n",
    "\n",
    "    return response.output_text"
   ]
  },
  {
   "cell_type": "code",
   "execution_count": 14,
   "id": "75bb2822-d1ec-475d-be4a-0df5af98d98b",
   "metadata": {},
   "outputs": [
    {
     "name": "stdout",
     "output_type": "stream",
     "text": [
      "<OUTPUT>\n",
      "Summary\n",
      "\n",
      "The video discusses an upcoming course titled \"Machine Learning Zoom Camp,\" detailing its structure, content updates, prerequisites, and answering questions from potential participants. It highlights that the course will start on September 15th and will feature both updated and original content from previous editions. Participants are encouraged to ask questions through a pinned link. The course aims to teach machine learning engineering skills, with a focus on practical applications, deployment, and real-world projects. Although job placement isn't guaranteed, many past students found jobs after completing the course. \n",
      "\n",
      "Chapter timestamps:\n",
      "0:00 introduction to the course\n",
      "1:10 course overview\n",
      "2:50 content updates\n",
      "5:32 depth of computer vision and prerequisites\n",
      "11:01 programming skills required\n",
      "13:12 target audience: data scientists or ML engineers\n",
      "16:30 certificates and milestones\n",
      "22:50 time commitment and project expectations\n",
      "30:27 course format and interaction\n",
      "37:35 final thoughts and course links\n",
      "</OUTPUT>\n"
     ]
    }
   ],
   "source": [
    "answer = llm(subtitles, instructions=instructions)\n",
    "print(answer)"
   ]
  },
  {
   "cell_type": "code",
   "execution_count": 15,
   "id": "11d34ca6-fa0d-4098-94d8-467987f070e1",
   "metadata": {},
   "outputs": [],
   "source": [
    "class Chapter(BaseModel):\n",
    "    timestamp: str\n",
    "    title: str\n",
    "\n",
    "class YTSummaryResponse(BaseModel):\n",
    "    summary: str\n",
    "    chapters: list[Chapter]"
   ]
  },
  {
   "cell_type": "code",
   "execution_count": 16,
   "id": "19c78f7d-754b-4884-a963-2904ca988b15",
   "metadata": {},
   "outputs": [],
   "source": [
    "instructions = \"\"\"\n",
    "Summarize the transcript and describe the main purpose of the video\n",
    "and the main ideas. \n",
    "\n",
    "Also output chapters with time. Use usual sentence case, not Title Case for the chapter.\n",
    "\n",
    "More chapters is better than fewer chapters. Have a chapter at least every 3-5 minutes\n",
    "\"\"\".strip()"
   ]
  },
  {
   "cell_type": "code",
   "execution_count": 17,
   "id": "11f2f99c-ad3b-456b-bebc-d896f0acc204",
   "metadata": {},
   "outputs": [],
   "source": [
    "messages = [\n",
    "    {\"role\": \"system\", \"content\": instructions}, \n",
    "    {\"role\": \"user\", \"content\": subtitles}\n",
    "]"
   ]
  },
  {
   "cell_type": "code",
   "execution_count": 18,
   "id": "47c2b112-4366-40f4-bc06-a47db57b1c46",
   "metadata": {},
   "outputs": [],
   "source": [
    "response = openai_client.responses.parse(\n",
    "    model='gpt-4o-mini',\n",
    "    input=messages,\n",
    "    text_format=YTSummaryResponse\n",
    ")"
   ]
  },
  {
   "cell_type": "code",
   "execution_count": 19,
   "id": "d23a3989-9387-425d-9c28-c18e82796d40",
   "metadata": {},
   "outputs": [
    {
     "name": "stdout",
     "output_type": "stream",
     "text": [
      "In this video, the host outlines the details and updates for the upcoming \"Machine Learning Zoom Camp\" course. Key areas of focus include course structure, updates on content (notably transitioning from TensorFlow to PyTorch for some modules), prerequisites, and the intended audience. The goal of the course is to equip participants with practical skills for machine learning engineering jobs, especially regarding deployment and implementation rather than deep theoretical insights. The host also addresses various questions from potential students, clarifying expectations around job placement, prior knowledge needed, course materials, and project requirements.\n",
      "\n",
      "0:00 Introduction to machine learning zoom camp\n",
      "3:49 Course structure and content updates\n",
      "6:47 Expectations and prerequisites for participants\n",
      "14:49 Discussion on job placements and career outcomes\n",
      "24:22 Course format and project details\n",
      "31:04 Overview of practical commitments and time estimations\n",
      "39:54 Final thoughts and upcoming launch details\n"
     ]
    }
   ],
   "source": [
    "summary = response.output[0].content[0].parsed\n",
    "\n",
    "print(summary.summary)\n",
    "print()\n",
    "for c in summary.chapters:\n",
    "    print(c.timestamp, c.title)"
   ]
  },
  {
   "cell_type": "code",
   "execution_count": 20,
   "id": "b683d336-44ca-45c0-be1c-471da3d56e43",
   "metadata": {},
   "outputs": [],
   "source": [
    "def llm_structured(instructions, user_prompt, output_format, model=\"gpt-4o-mini\"):\n",
    "    messages = [\n",
    "        {\"role\": \"system\", \"content\": instructions},\n",
    "        {\"role\": \"user\", \"content\": user_prompt}\n",
    "    ]\n",
    "\n",
    "    response = openai_client.responses.parse(\n",
    "        model=model,\n",
    "        input=messages,\n",
    "        text_format=output_format\n",
    "    )\n",
    "\n",
    "    return response.output[0].content[0].parsed"
   ]
  },
  {
   "cell_type": "code",
   "execution_count": 21,
   "id": "26b558e0-2b6a-4846-8813-5dcea2993e5e",
   "metadata": {},
   "outputs": [],
   "source": [
    "summary = llm_structured(\n",
    "    instructions=instructions,\n",
    "    user_prompt=subtitles,\n",
    "    output_format=YTSummaryResponse\n",
    ")"
   ]
  },
  {
   "cell_type": "code",
   "execution_count": 22,
   "id": "77764c39-d602-43d2-a7f7-6ca13e067035",
   "metadata": {},
   "outputs": [
    {
     "data": {
      "text/plain": [
       "YTSummaryResponse(summary='The video provides an overview of the upcoming \"Machine Learning Zoom Camp\" course. It includes details on course structure, modules, prerequisites, and answers to various queries about course content and objectives. The course is focused on machine learning engineering, covering fundamental concepts and practical applications, primarily focusing on Python, deployment, and minimal theory on computer vision and math.', chapters=[Chapter(timestamp='0:00', title='Introduction to the course'), Chapter(timestamp='5:20', title='Course content overview'), Chapter(timestamp='10:32', title='Practical programming prerequisites'), Chapter(timestamp='15:54', title='Deep learning and computer vision'), Chapter(timestamp='22:10', title='Course structure and project requirements'), Chapter(timestamp='30:34', title='Use of external resources for learning'), Chapter(timestamp='35:48', title='Expectations for job readiness after the course'), Chapter(timestamp='40:58', title='Certificates and project portfolios'), Chapter(timestamp='46:20', title='Live sessions and course interaction'), Chapter(timestamp='53:20', title='Conclusion and upcoming launch')])"
      ]
     },
     "execution_count": 22,
     "metadata": {},
     "output_type": "execute_result"
    }
   ],
   "source": [
    "summary"
   ]
  },
  {
   "cell_type": "code",
   "execution_count": null,
   "id": "74e354b1-86ce-4ab7-b856-33ac646b0ed1",
   "metadata": {},
   "outputs": [],
   "source": []
  }
 ],
 "metadata": {
  "kernelspec": {
   "display_name": "Python 3 (ipykernel)",
   "language": "python",
   "name": "python3"
  },
  "language_info": {
   "codemirror_mode": {
    "name": "ipython",
    "version": 3
   },
   "file_extension": ".py",
   "mimetype": "text/x-python",
   "name": "python",
   "nbconvert_exporter": "python",
   "pygments_lexer": "ipython3",
   "version": "3.12.1"
  }
 },
 "nbformat": 4,
 "nbformat_minor": 5
}
