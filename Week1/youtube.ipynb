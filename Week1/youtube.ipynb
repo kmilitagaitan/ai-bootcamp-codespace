{
 "cells": [
  {
   "cell_type": "code",
   "execution_count": 1,
   "id": "22152c0a-0446-436a-85b1-2b525ba735a8",
   "metadata": {},
   "outputs": [
    {
     "name": "stdout",
     "output_type": "stream",
     "text": [
      "\u001b[2mResolved \u001b[1m151 packages\u001b[0m \u001b[2min 0.52ms\u001b[0m\u001b[0m\n",
      "\u001b[2mAudited \u001b[1m146 packages\u001b[0m \u001b[2min 0.98ms\u001b[0m\u001b[0m\n"
     ]
    }
   ],
   "source": [
    "!uv add youtube-transcript-api"
   ]
  },
  {
   "cell_type": "code",
   "execution_count": 2,
   "id": "d83ef2e2-f492-4920-8fa5-dc18ecc7a089",
   "metadata": {},
   "outputs": [],
   "source": [
    "from youtube_transcript_api import YouTubeTranscriptApi\n",
    "from openai import OpenAI\n",
    "from pydantic import BaseModel\n",
    "import pickle\n",
    "import datetime"
   ]
  },
  {
   "cell_type": "code",
   "execution_count": 3,
   "id": "0071ebb9-e329-447a-a049-6f6b3b304a84",
   "metadata": {},
   "outputs": [],
   "source": [
    "openai_client = OpenAI()"
   ]
  },
  {
   "cell_type": "code",
   "execution_count": 4,
   "id": "4463dad6-476c-4d36-851b-e2ef364bc070",
   "metadata": {},
   "outputs": [],
   "source": [
    "video_id = 'ph1PxZIkz1o'"
   ]
  },
  {
   "cell_type": "code",
   "execution_count": 5,
   "id": "2dac7bea-d97c-44a4-8c6c-3778c3fc68d3",
   "metadata": {},
   "outputs": [],
   "source": [
    "#!wget https://github.com/alexeygrigorev/ai-bootcamp-codespace/raw/refs/heads/main/week1/ph1PxZIkz1o.bin"
   ]
  },
  {
   "cell_type": "code",
   "execution_count": 6,
   "id": "8736c34f-1b1f-4d28-bada-950443913d3e",
   "metadata": {},
   "outputs": [],
   "source": [
    "with open(f'{video_id}.bin', 'rb') as f_in:\n",
    "    transcript = pickle.load(f_in)"
   ]
  },
  {
   "cell_type": "code",
   "execution_count": 7,
   "id": "2aed345d-2fb5-49af-9cb6-520462abcc47",
   "metadata": {},
   "outputs": [
    {
     "data": {
      "text/plain": [
       "[FetchedTranscriptSnippet(text='So hi everyone. Uh today we are going to', start=0.0, duration=5.04),\n",
       " FetchedTranscriptSnippet(text='talk about our upcoming course. The', start=2.96, duration=3.52),\n",
       " FetchedTranscriptSnippet(text='upcoming course is called machine', start=5.04, duration=5.92),\n",
       " FetchedTranscriptSnippet(text='learning zoom camp. And um this is', start=6.48, duration=5.92),\n",
       " FetchedTranscriptSnippet(text='already I put the link in the', start=10.96, duration=3.599),\n",
       " FetchedTranscriptSnippet(text=\"description. So if you're watching um\", start=12.4, duration=4.719),\n",
       " FetchedTranscriptSnippet(text=\"this video in recording or you're\", start=14.559, duration=4.88),\n",
       " FetchedTranscriptSnippet(text='watching it live, you go here in the', start=17.119, duration=4.561),\n",
       " FetchedTranscriptSnippet(text='description after under this video and', start=19.439, duration=5.6),\n",
       " FetchedTranscriptSnippet(text='then you see a link course. uh click on', start=21.68, duration=6.24),\n",
       " FetchedTranscriptSnippet(text='that link and this bring you will bring', start=25.039, duration=4.64)]"
      ]
     },
     "execution_count": 7,
     "metadata": {},
     "output_type": "execute_result"
    }
   ],
   "source": [
    "transcript[:11]"
   ]
  },
  {
   "cell_type": "code",
   "execution_count": 8,
   "id": "5c05e8dc-266d-4b48-9775-e4b5b3722efc",
   "metadata": {},
   "outputs": [],
   "source": [
    "def format_timestamp(seconds: float) -> str:\n",
    "    \"\"\"Convert seconds to H:MM:SS if > 1 hour, else M:SS\"\"\"\n",
    "    total_seconds = int(seconds)\n",
    "    hours, remainder = divmod(total_seconds, 3600)\n",
    "    minutes, secs = divmod(remainder, 60)\n",
    "\n",
    "    if hours > 0:\n",
    "        return f\"{hours}:{minutes:02}:{secs:02}\"\n",
    "    else:\n",
    "        return f\"{minutes}:{secs:02}\""
   ]
  },
  {
   "cell_type": "code",
   "execution_count": 9,
   "id": "8588a1d5-45db-434e-9f2b-de06c338db7f",
   "metadata": {},
   "outputs": [],
   "source": [
    "def make_subtitles(transcript) -> str:\n",
    "    lines = []\n",
    "\n",
    "    for entry in transcript:\n",
    "        ts = format_timestamp(entry.start)\n",
    "        text = entry.text.replace('\\n', ' ')\n",
    "        lines.append(ts + ' ' + text)\n",
    "\n",
    "    return '\\n'.join(lines)\n"
   ]
  },
  {
   "cell_type": "code",
   "execution_count": 10,
   "id": "81edae54-19ce-4b04-8813-cc85f42e353b",
   "metadata": {},
   "outputs": [],
   "source": [
    "subtitles = make_subtitles(transcript)"
   ]
  },
  {
   "cell_type": "code",
   "execution_count": 11,
   "id": "7b8c6d73-29a8-4291-aad6-1fdf171aaca9",
   "metadata": {},
   "outputs": [
    {
     "name": "stdout",
     "output_type": "stream",
     "text": [
      "0:00 So hi everyone. Uh today we are going to\n",
      "0:02 talk about our upcoming course. The\n",
      "0:05 upcoming course is called machine\n",
      "0:06 learning zoom camp. And um this is\n",
      "0:10 already I put the link in the\n",
      "0:12 description. So if you're watching um\n",
      "0:14 this video in recording or you're\n",
      "0:17 watching it live, you go here in the\n",
      "0:19 description after under this video and\n",
      "0:21 then you see a link course. uh click on\n",
      "0:25 that link and this bring you will bring\n",
      "0:27 you to\n",
      "0:29 this website this GitHub\n"
     ]
    }
   ],
   "source": [
    "print(subtitles[:500])"
   ]
  },
  {
   "cell_type": "code",
   "execution_count": 12,
   "id": "b13ae204-b941-4197-8573-37294b85a110",
   "metadata": {},
   "outputs": [],
   "source": [
    "instructions = \"\"\"\n",
    "Summarize the transcript and describe the main purpose of the video\n",
    "and the main ideas. \n",
    "\n",
    "Also output chapters with time. Use usual sentence case, not Title Case for the chapter.\n",
    "\n",
    "Output format: \n",
    "\n",
    "<OUTPUT>\n",
    "Summary\n",
    "\n",
    "timestamp chapter \n",
    "timestamp chapter\n",
    "...\n",
    "timestamp chapter\n",
    "</OUTPUT>\n",
    "\"\"\""
   ]
  },
  {
   "cell_type": "code",
   "execution_count": 13,
   "id": "c8499f0e-8f4a-49e6-b18f-8bf40bbc7d0e",
   "metadata": {},
   "outputs": [],
   "source": [
    "def llm(user_prompt, instructions=None, model=\"gpt-4o-mini\"):\n",
    "    messages = []\n",
    "\n",
    "    if instructions:\n",
    "        messages.append({\n",
    "            \"role\": \"system\",\n",
    "            \"content\": instructions\n",
    "        })\n",
    "\n",
    "    messages.append({\n",
    "        \"role\": \"user\",\n",
    "        \"content\": user_prompt\n",
    "    })\n",
    "\n",
    "    response = openai_client.responses.create(\n",
    "        model=model,\n",
    "        input=messages\n",
    "    )\n",
    "\n",
    "    return response.output_text"
   ]
  },
  {
   "cell_type": "code",
   "execution_count": 14,
   "id": "75bb2822-d1ec-475d-be4a-0df5af98d98b",
   "metadata": {},
   "outputs": [
    {
     "name": "stdout",
     "output_type": "stream",
     "text": [
      "<OUTPUT>\n",
      "Summary\n",
      "\n",
      "The video discusses an upcoming course titled \"Machine Learning Zoom Camp,\" aimed primarily at individuals interested in machine learning engineering. The host outlines the course structure, content updates, prerequisites, and the focus on deployment and practical skills rather than purely theoretical knowledge. Students are encouraged to ask questions through a linked platform, and the session aims to clarify details about the course's objectives, modules, and job readiness.\n",
      "\n",
      "Main ideas include:\n",
      "1. Course details and linkage.\n",
      "2. The shift towards deploying machine learning models.\n",
      "3. The value of project-based learning and real-world applications.\n",
      "4. Prerequisites in programming and command-line usage.\n",
      "5. Overview of job prospects post-course completion.\n",
      "\n",
      "timestamp chapter \n",
      "0:00 introduction to machine learning zoom camp \n",
      "0:50 course structure and updates \n",
      "2:36 question about job placement \n",
      "4:20 depth of computer vision and framework choice \n",
      "6:02 prerequisites for the course \n",
      "8:02 command line experiences needed \n",
      "10:00 importance of programming knowledge \n",
      "12:30 course target audience \n",
      "14:08 recommended companion book \n",
      "16:24 mathematics prerequisites \n",
      "18:10 computer requirements for the course \n",
      "19:03 using external tools for understanding \n",
      "20:02 job suitability for ML roles \n",
      "22:40 discussing course information and job roles \n",
      "24:45 new materials and updates \n",
      "26:05 certificate of completion \n",
      "28:00 course deadlines and structure \n",
      "29:30 explained module interactions \n",
      "30:50 project guidance and evaluation \n",
      "32:10 student success stories \n",
      "32:50 course project relevance \n",
      "34:15 deployment practices \n",
      "36:45 future learnings after course completion \n",
      "37:50 addressing inquiries and questions \n",
      "38:40 weekly time commitment for the course \n",
      "40:25 peer reviews and pass requirements \n",
      "41:55 resources to sharpen skills \n",
      "43:20 balance of tools and ML concepts \n",
      "45:55 closing remarks and further questions \n",
      "</OUTPUT>\n"
     ]
    }
   ],
   "source": [
    "answer = llm(subtitles, instructions=instructions)\n",
    "print(answer)"
   ]
  },
  {
   "cell_type": "code",
   "execution_count": 15,
   "id": "11d34ca6-fa0d-4098-94d8-467987f070e1",
   "metadata": {},
   "outputs": [],
   "source": [
    "class Chapter(BaseModel):\n",
    "    timestamp: str\n",
    "    title: str\n",
    "\n",
    "class YTSummaryResponse(BaseModel):\n",
    "    summary: str\n",
    "    chapters: list[Chapter]"
   ]
  },
  {
   "cell_type": "code",
   "execution_count": 16,
   "id": "19c78f7d-754b-4884-a963-2904ca988b15",
   "metadata": {},
   "outputs": [],
   "source": [
    "instructions = \"\"\"\n",
    "Summarize the transcript and describe the main purpose of the video\n",
    "and the main ideas. \n",
    "\n",
    "Also output chapters with time. Use usual sentence case, not Title Case for the chapter.\n",
    "\n",
    "More chapters is better than fewer chapters. Have a chapter at least every 3-5 minutes\n",
    "\"\"\".strip()"
   ]
  },
  {
   "cell_type": "code",
   "execution_count": 17,
   "id": "11f2f99c-ad3b-456b-bebc-d896f0acc204",
   "metadata": {},
   "outputs": [],
   "source": [
    "messages = [\n",
    "    {\"role\": \"system\", \"content\": instructions}, \n",
    "    {\"role\": \"user\", \"content\": subtitles}\n",
    "]"
   ]
  },
  {
   "cell_type": "code",
   "execution_count": 18,
   "id": "47c2b112-4366-40f4-bc06-a47db57b1c46",
   "metadata": {},
   "outputs": [],
   "source": [
    "response = openai_client.responses.parse(\n",
    "    model='gpt-4o-mini',\n",
    "    input=messages,\n",
    "    text_format=YTSummaryResponse\n",
    ")"
   ]
  },
  {
   "cell_type": "code",
   "execution_count": 19,
   "id": "d23a3989-9387-425d-9c28-c18e82796d40",
   "metadata": {},
   "outputs": [
    {
     "name": "stdout",
     "output_type": "stream",
     "text": [
      "This video discusses the upcoming \"Machine Learning Zoom Camp\" course, highlighting its structure, content updates, and prerequisites. The instructor emphasizes its focus on machine learning engineering and deployment skills, responding to various viewer questions about job placements, course content, and suitable backgrounds for participants. They clarify that while the course provides foundational knowledge, it mainly aims to prepare students for entry-level roles in machine learning engineering rather than data science. The instructor also encourages using resources like GitHub and ChatGPT to aid learning.\n",
      "\n",
      "0:00 Introduction to machine learning zoom camp\n",
      "2:50 Course updates and content changes\n",
      "5:00 Job placement opportunities\n",
      "6:40 Deep learning and computer vision coverage\n",
      "8:40 Prerequisites for the course\n",
      "11:30 Focus on programming, not deep math knowledge\n",
      "13:05 Target audience for ML engineers vs data scientists\n",
      "14:35 Use of companion book for the course\n",
      "17:01 Computer requirements for completing the course\n",
      "19:10 Use of ChatGPT in learning\n",
      "20:50 Explaining course structure and job roles\n",
      "23:40 Updates and new material for the current cohort\n",
      "26:00 Project expectations and portfolio building\n",
      "30:00 Leaderboards and competitive aspects of the course\n",
      "33:22 Final thoughts and Q&A session recap\n",
      "36:00 Motivation and commitment to complete the course\n",
      "40:40 How to stay engaged after the course\n"
     ]
    }
   ],
   "source": [
    "summary = response.output[0].content[0].parsed\n",
    "\n",
    "print(summary.summary)\n",
    "print()\n",
    "for c in summary.chapters:\n",
    "    print(c.timestamp, c.title)"
   ]
  },
  {
   "cell_type": "code",
   "execution_count": 22,
   "id": "b683d336-44ca-45c0-be1c-471da3d56e43",
   "metadata": {},
   "outputs": [],
   "source": [
    "def llm_structured(instructions, user_prompt, output_format, model=\"gpt-4o-mini\"):\n",
    "    messages = [\n",
    "        {\"role\": \"system\", \"content\": instructions},\n",
    "        {\"role\": \"user\", \"content\": user_prompt}\n",
    "    ]\n",
    "\n",
    "    response = openai_client.responses.parse(\n",
    "        model=model,\n",
    "        input=messages,\n",
    "        text_format=output_format\n",
    "    )\n",
    "\n",
    "    return response.output[0].content[0].parsed"
   ]
  },
  {
   "cell_type": "code",
   "execution_count": 23,
   "id": "26b558e0-2b6a-4846-8813-5dcea2993e5e",
   "metadata": {},
   "outputs": [],
   "source": [
    "summary = llm_structured(\n",
    "    instructions=instructions,\n",
    "    user_prompt=subtitles,\n",
    "    output_format=YTSummaryResponse\n",
    ")"
   ]
  },
  {
   "cell_type": "code",
   "execution_count": 24,
   "id": "77764c39-d602-43d2-a7f7-6ca13e067035",
   "metadata": {},
   "outputs": [
    {
     "data": {
      "text/plain": [
       "YTSummaryResponse(summary='The video outlines details about the upcoming Machine Learning Zoom Camp course, addressing various aspects such as course structure, content updates, prerequisites, and answering participant questions. It emphasizes that the course is aimed primarily at those wanting to become machine learning engineers rather than data scientists, though data scientists may find it beneficial. The instructor discusses the engineering focus of the curriculum, the hands-on approach to learning, the importance of coding skills, and the nature of projects and assignments in the course.', chapters=[Chapter(timestamp='0:00', title='Introduction to machine learning zoom camp'), Chapter(timestamp='0:47', title='Course details and start date'), Chapter(timestamp='1:29', title='Course content updates'), Chapter(timestamp='3:55', title='Job placement and outcomes'), Chapter(timestamp='5:36', title='Prerequisites for the course'), Chapter(timestamp='6:45', title='Using PyTorch and TensorFlow'), Chapter(timestamp='10:40', title='Importance of programming skills'), Chapter(timestamp='13:46', title='Target audience: ML engineers vs data scientists'), Chapter(timestamp='15:15', title='Recommended companion book and resources'), Chapter(timestamp='19:19', title='Project expectations and outcomes'), Chapter(timestamp='20:35', title='Deployment and usage environments'), Chapter(timestamp='24:20', title='Course structure and deadlines'), Chapter(timestamp='29:01', title='Learning resources and community engagement'), Chapter(timestamp='32:44', title='Overview of courses available in the program'), Chapter(timestamp='36:31', title='Future steps after course completion'), Chapter(timestamp='40:56', title='Certificates and recognition'), Chapter(timestamp='46:01', title='Final remarks and Q&A overview')])"
      ]
     },
     "execution_count": 24,
     "metadata": {},
     "output_type": "execute_result"
    }
   ],
   "source": [
    "summary"
   ]
  },
  {
   "cell_type": "code",
   "execution_count": null,
   "id": "74e354b1-86ce-4ab7-b856-33ac646b0ed1",
   "metadata": {},
   "outputs": [],
   "source": []
  }
 ],
 "metadata": {
  "kernelspec": {
   "display_name": "Python 3 (ipykernel)",
   "language": "python",
   "name": "python3"
  },
  "language_info": {
   "codemirror_mode": {
    "name": "ipython",
    "version": 3
   },
   "file_extension": ".py",
   "mimetype": "text/x-python",
   "name": "python",
   "nbconvert_exporter": "python",
   "pygments_lexer": "ipython3",
   "version": "3.12.1"
  }
 },
 "nbformat": 4,
 "nbformat_minor": 5
}
