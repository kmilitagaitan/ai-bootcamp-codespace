{
 "cells": [
  {
   "cell_type": "code",
   "execution_count": null,
   "id": "e45d63ba-54b5-4eb3-990f-ba2b32120d5f",
   "metadata": {},
   "outputs": [],
   "source": [
    "from openai import OpenAI"
   ]
  },
  {
   "cell_type": "code",
   "execution_count": null,
   "id": "686ba320-8204-47b2-be63-fd9c37dcc0a0",
   "metadata": {},
   "outputs": [],
   "source": [
    "client = OpenAI()"
   ]
  },
  {
   "cell_type": "code",
   "execution_count": null,
   "id": "e5f76118-0d49-4fb3-a2c5-2e2993edaf83",
   "metadata": {},
   "outputs": [],
   "source": [
    "instructions = \"\"\"\n",
    "You are an assistant who creates bedtime stories. Include emojis in the response. Ask the user follow-up questions \"\"\".strip()\n",
    "\n",
    "messages = [\n",
    "    {\"role\": \"system\", \"content\": instructions},\n",
    "    {\"role\": \"user\", \"content\": \"unicorn\"}\n",
    "]\n",
    "\n",
    "response = client.responses.create(\n",
    "    model='gpt-4o-mini',\n",
    "    input=messages\n",
    ")"
   ]
  },
  {
   "cell_type": "code",
   "execution_count": null,
   "id": "cd75d192-f6b0-4d54-b156-7384a498e7b5",
   "metadata": {},
   "outputs": [],
   "source": [
    "print(response.output_text)"
   ]
  },
  {
   "cell_type": "code",
   "execution_count": null,
   "id": "150a31af-1271-42d6-b91e-96d557ada75e",
   "metadata": {},
   "outputs": [],
   "source": [
    "answer = \"Yes, it will be able to fly in a magical forest with fairies\""
   ]
  },
  {
   "cell_type": "code",
   "execution_count": null,
   "id": "ea5a68ca-c3ad-4cad-8096-c4e9ddf17f9b",
   "metadata": {},
   "outputs": [],
   "source": [
    "print(response.output_text)"
   ]
  },
  {
   "cell_type": "code",
   "execution_count": null,
   "id": "de09e2f3-155a-482d-af8f-5a0c07793fbb",
   "metadata": {},
   "outputs": [],
   "source": [
    "messages.append(response.output[0])"
   ]
  },
  {
   "cell_type": "code",
   "execution_count": null,
   "id": "8441df91-33b9-4c15-ab86-dfa6ba1ecd35",
   "metadata": {},
   "outputs": [],
   "source": [
    "\"\"\"\n",
    "What is interesting here:\n",
    "\n",
    "output - everything that the LLM returned\n",
    "\n",
    "usage - how many tokens we used (also - how much we paid)\n",
    "\"\"\"\n",
    "print(response.model_dump_json(indent=2))"
   ]
  },
  {
   "cell_type": "code",
   "execution_count": null,
   "id": "5c1aa60e-58d4-493b-b871-a63d0bcb3d2b",
   "metadata": {},
   "outputs": [],
   "source": [
    "#Getting the text \n",
    "response.output[0].content[0].text\n",
    "response.output_text"
   ]
  },
  {
   "cell_type": "code",
   "execution_count": null,
   "id": "e4e31d32-d278-40d0-954e-d5e4db3d49b9",
   "metadata": {},
   "outputs": [],
   "source": [
    "#Stream the response\n",
    "stream = client.responses.create(\n",
    "    model='gpt-4o-mini',\n",
    "    input=messages,\n",
    "    stream=True\n",
    ")\n",
    "\n",
    "for event in stream:\n",
    "    print(event)"
   ]
  },
  {
   "cell_type": "code",
   "execution_count": null,
   "id": "70059bbe-5811-405d-81f3-0065738a6108",
   "metadata": {},
   "outputs": [],
   "source": [
    "for event in stream:\n",
    "    if hasattr(event, 'delta'):\n",
    "        print(event.delta, end='')"
   ]
  },
  {
   "cell_type": "code",
   "execution_count": null,
   "id": "8778877e-e516-4746-9069-c15681719ef3",
   "metadata": {},
   "outputs": [],
   "source": [
    "\"\"\"\n",
    "Library to send \n",
    "\"\"\""
   ]
  }
 ],
 "metadata": {
  "kernelspec": {
   "display_name": "Python 3 (ipykernel)",
   "language": "python",
   "name": "python3"
  },
  "language_info": {
   "codemirror_mode": {
    "name": "ipython",
    "version": 3
   },
   "file_extension": ".py",
   "mimetype": "text/x-python",
   "name": "python",
   "nbconvert_exporter": "python",
   "pygments_lexer": "ipython3",
   "version": "3.12.1"
  }
 },
 "nbformat": 4,
 "nbformat_minor": 5
}
