{
 "cells": [
  {
   "cell_type": "code",
   "execution_count": 1,
   "id": "88fec6d7-67d1-43a8-828e-adb96ec4b00a",
   "metadata": {},
   "outputs": [],
   "source": [
    "import requests\n",
    "import json\n",
    "import asyncio\n",
    "import re\n",
    "\n",
    "from typing import Optional\n",
    "from agents import Agent, function_tool\n",
    "from agents import Runner\n",
    "from toyaikit.chat import IPythonChatInterface\n",
    "from toyaikit.chat.runners import OpenAIAgentsSDKRunner\n",
    "from minsearch import Index\n",
    "from bs4 import BeautifulSoup\n",
    "from markdown import markdown as md_to_html\n",
    "from minsearch import AppendableIndex"
   ]
  },
  {
   "cell_type": "code",
   "execution_count": 2,
   "id": "d0142105-44fd-40df-8cd3-f32581c20a73",
   "metadata": {},
   "outputs": [],
   "source": [
    "def get_page_content(url:str):\n",
    "    reader_url_prefix = 'https://r.jina.ai/'\n",
    "    request_url = reader_url_prefix + url\n",
    "    response = requests.get(request_url)\n",
    "    return response.content.decode('utf8')"
   ]
  },
  {
   "cell_type": "code",
   "execution_count": 3,
   "id": "d99eb559-2068-482e-98ec-77275a03557f",
   "metadata": {},
   "outputs": [],
   "source": [
    "reader_url_prefix = \"https://r.jina.ai/\"\n",
    "\n",
    "def get_page_content(url: str) -> Optional[str]:\n",
    "    \"\"\"\n",
    "    Fetch the Mark-down content of a web page using the Jina Reader service.\n",
    "\n",
    "    This function prepends the Jina Reader proxy URL to the provided `url`,\n",
    "    sends a GET request with a timeout, and decodes the response as UTF-8 text.\n",
    "\n",
    "    Args:\n",
    "        url (str): The URL of the page to fetch.\n",
    "\n",
    "    Returns:\n",
    "        Optional[str]: The JSON-formatted content of the page if the request\n",
    "        succeeds; otherwise, None.\n",
    "\n",
    "    Raises:\n",
    "        None: All network or decoding errors are caught and suppressed.\n",
    "               Logs or error messages could be added as needed.\n",
    "    \"\"\"\n",
    "    reader_url = reader_url_prefix + url\n",
    "\n",
    "    try:\n",
    "        response = requests.get(reader_url, timeout=10)\n",
    "        response.raise_for_status()  # raises for 4xx/5xx HTTP errors\n",
    "        return response.content.decode(\"utf-8\")\n",
    "    except (requests.exceptions.RequestException, UnicodeDecodeError) as e:\n",
    "        # Optional: log or print the error for debugging\n",
    "        print(f\"Error fetching content from {url}: {e}\")\n",
    "        return None"
   ]
  },
  {
   "cell_type": "code",
   "execution_count": 4,
   "id": "10d0f4bb-554e-4d88-b8b2-596aa023ed7c",
   "metadata": {},
   "outputs": [],
   "source": [
    "def sliding_window(seq, size, step):\n",
    "    result = []\n",
    "    for i in range(0, len(seq), step):\n",
    "        batch = seq[i:i+size]\n",
    "        result.append(batch)\n",
    "        if i + size >= len(seq):\n",
    "            break\n",
    "    return result"
   ]
  },
  {
   "cell_type": "code",
   "execution_count": 5,
   "id": "0364d2e7-26c9-4ffc-8821-60cd5fb4796a",
   "metadata": {},
   "outputs": [],
   "source": [
    "def clean(text):\n",
    "    text = re.sub(r\"\\s*\\[\\d+\\]\\s*\", \" \", text) \n",
    "    return re.sub(r\"\\s{2,}\", \" \", text.strip())"
   ]
  },
  {
   "cell_type": "code",
   "execution_count": 6,
   "id": "17228fa6-bd5b-494d-83d2-189e393eec76",
   "metadata": {},
   "outputs": [],
   "source": [
    "def to_sentences(text):\n",
    "    return [s.strip() for s in re.split(r\"(?<=[.!?])\\s+\", text) if s.strip()]"
   ]
  },
  {
   "cell_type": "code",
   "execution_count": 7,
   "id": "18c61263-f11d-4a31-a378-7e7bb0d66027",
   "metadata": {},
   "outputs": [],
   "source": [
    "def html_to_paragraph_text(html):\n",
    "    soup = BeautifulSoup(html, \"lxml\")\n",
    "    paragraphs = [p.get_text(\" \", strip=True) for p in soup.find_all(\"p\")]\n",
    "    if not paragraphs:\n",
    "        paragraphs = [soup.get_text(\" \", strip=True)]\n",
    "    return clean(\" \".join(paragraphs))"
   ]
  },
  {
   "cell_type": "code",
   "execution_count": 8,
   "id": "c242b1cc-ea5d-4993-a448-bdf7bcbd08ba",
   "metadata": {},
   "outputs": [
    {
     "name": "stdout",
     "output_type": "stream",
     "text": [
      "Title: Capybara URL Source: https://en.wikipedia.org/wiki/Capybara Published Time: 2001-10-13T20:04:37Z Markdown Content: From Wikipedia, the free encyclopedia | Capybara |\n",
      "| --- |\n",
      "| |\n",
      "| In Petrópolis , Brazil |\n",
      "| Conservation status |\n",
      "| Least Concern ( IUCN 3.1 ) |\n",
      "| Scientific classification |\n",
      "| Kingdom: | Animalia |\n",
      "| Phylum: | Chordata |\n",
      "| Class: | Mammalia |\n",
      "| Order: | Rodentia |\n",
      "| Family: | Caviidae |\n",
      "| Genus: | Hydrochoerus |\n",
      "| Species: | H.hydrochaeris |\n",
      "| Binomial name |\n",
      "| Hydrochoerus ...\n"
     ]
    }
   ],
   "source": [
    "html = md_to_html(get_page_content(\"https://en.wikipedia.org/wiki/Capybara\"))\n",
    "text = html_to_paragraph_text(html)\n",
    "print(text[:500] + (\"...\" if len(text) > 500 else \"\"))"
   ]
  },
  {
   "cell_type": "code",
   "execution_count": 9,
   "id": "3479e0a2-c749-4413-ac55-30d1b464ec35",
   "metadata": {},
   "outputs": [
    {
     "name": "stdout",
     "output_type": "stream",
     "text": [
      "The system has generated  30 chunks.\n",
      "Title: Capybara URL Source: https://en.wikipedia.org/wiki/Capybara Published Time: 2001-10-13T20:04:37Z Markdown Content: From Wikipedia, the free encyclopedia | Capybara |\n",
      "| --- |\n",
      "| |\n",
      "| In Petrópolis , Brazil |\n",
      "| Conservation status |\n",
      "| Least Concern ( IUCN 3.1 ) |\n",
      "| Scientific classification |\n",
      "| Kingdom: | Animalia |\n",
      "| Phylum: | Chordata |\n",
      "| Class: | Mammalia |\n",
      "| Order: | Rodentia |\n",
      "| Family: | ...\n"
     ]
    }
   ],
   "source": [
    "WINDOW_SENTENCES = 8\n",
    "STEP_SENTENCES   = 4\n",
    "\n",
    "sentences = to_sentences(text)\n",
    "windows = sliding_window(sentences, size=WINDOW_SENTENCES, step=STEP_SENTENCES)\n",
    "\n",
    "docs = [\n",
    "    {\"id\": i+1, \"text\": \" \".join(win), \"source\": \"markdown\"}\n",
    "    for i, win in enumerate(windows) if win\n",
    "]\n",
    "\n",
    "print(f\"The system has generated  {len(docs)} chunks.\")\n",
    "print(docs[0][\"text\"][:400] + \"...\")"
   ]
  },
  {
   "cell_type": "code",
   "execution_count": 10,
   "id": "a8831351-aafe-4b3e-b3b4-f21f4013b009",
   "metadata": {},
   "outputs": [
    {
     "name": "stdout",
     "output_type": "stream",
     "text": [
      "[{'id': 9, 'text': 'They are superb swimmers and can hold their breath underwater for up to five minutes at a time. Capybara have flourished in cattle ranches. They roam in home ranges averaging 10 hectares (25 acres) in high-density populations. Many escapees from captivity can also be found in similar watery habitats around the world. Sightings are fairly common in Florida , although a breeding population has not yet been confirmed. In 2011, one specimen was spotted on the Central Coast of California . These escaped populations occur in areas where prehistoric capybaras inhabited; late Pleistocene capybaras inhabited Florida and Hydrochoerus hesperotiganites in California and Hydrochoerus gaylordi in Grenada , and feral capybaras in North America may actually fill the ecological niche of the Pleistocene species. A capybara eating hay at Franklin Park Zoo , Boston, Massachusetts Capybaras are herbivores , grazing mainly on grasses and aquatic plants , as well as fruit and tree bark.', 'source': 'markdown'}]\n"
     ]
    }
   ],
   "source": [
    "index=AppendableIndex(text_fields=[\"text\"])\n",
    "index.fit(docs)\n",
    "\n",
    "# Test search:\n",
    "results = index.search('What are threats to capybara populations?', num_results=1)\n",
    "print(results)"
   ]
  },
  {
   "cell_type": "code",
   "execution_count": 11,
   "id": "b0eb9bfe-a7ca-4d58-8008-1f6640d4ddaf",
   "metadata": {},
   "outputs": [],
   "source": [
    "def search(query:str):\n",
    "    \"\"\"Search for relevant documents.\"\"\"\n",
    "    return index.search(\n",
    "        query=query,\n",
    "        num_results=5\n",
    "    )"
   ]
  },
  {
   "cell_type": "code",
   "execution_count": 12,
   "id": "db292bc6-962e-4fd7-a34d-28791ae5f0b9",
   "metadata": {},
   "outputs": [],
   "source": [
    "assistant_instructions = \"\"\"\n",
    "You're a helpful assistant that helps answer user questions.\n",
    "\"\"\"\n",
    "\n",
    "assistant = Agent(\n",
    "    name='assistant',\n",
    "    tools=[function_tool(get_page_content),\n",
    "           function_tool(search)\n",
    "          ],\n",
    "    instructions=assistant_instructions,\n",
    "    model='gpt-4o-mini'\n",
    ")"
   ]
  },
  {
   "cell_type": "code",
   "execution_count": 13,
   "id": "94886fda-14bf-4f8e-b0dd-c6bc0630b924",
   "metadata": {},
   "outputs": [],
   "source": [
    "runner = Runner()"
   ]
  },
  {
   "cell_type": "code",
   "execution_count": 14,
   "id": "0bcabfc0-1c2c-486a-91f5-c75ae0592ec5",
   "metadata": {},
   "outputs": [],
   "source": [
    "user_prompt = \"Summarize the content of https://en.wikipedia.org/wiki/Capybara \"\n",
    "result = await runner.run(assistant, input=user_prompt)"
   ]
  },
  {
   "cell_type": "code",
   "execution_count": 15,
   "id": "7488b689-3d97-4fd8-a688-1f238b4fc54d",
   "metadata": {},
   "outputs": [],
   "source": [
    "chat_interface = IPythonChatInterface()\n",
    "\n",
    "runner = OpenAIAgentsSDKRunner(\n",
    "    chat_interface=chat_interface,\n",
    "    agent=assistant\n",
    ")"
   ]
  },
  {
   "cell_type": "code",
   "execution_count": null,
   "id": "25787c2a-4d02-4928-b20a-5e00b23144e8",
   "metadata": {},
   "outputs": [],
   "source": [
    "await runner.run();"
   ]
  },
  {
   "cell_type": "code",
   "execution_count": null,
   "id": "0b5759b0-743d-4dc8-8bed-5e6fd9dbbf96",
   "metadata": {},
   "outputs": [],
   "source": []
  },
  {
   "cell_type": "code",
   "execution_count": null,
   "id": "07b10882-a37f-4989-a0d9-aff32038b7d6",
   "metadata": {},
   "outputs": [],
   "source": []
  }
 ],
 "metadata": {
  "kernelspec": {
   "display_name": "Python 3 (ipykernel)",
   "language": "python",
   "name": "python3"
  },
  "language_info": {
   "codemirror_mode": {
    "name": "ipython",
    "version": 3
   },
   "file_extension": ".py",
   "mimetype": "text/x-python",
   "name": "python",
   "nbconvert_exporter": "python",
   "pygments_lexer": "ipython3",
   "version": "3.12.1"
  }
 },
 "nbformat": 4,
 "nbformat_minor": 5
}
