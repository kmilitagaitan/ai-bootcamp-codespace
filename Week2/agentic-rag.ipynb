{
 "cells": [
  {
   "cell_type": "code",
   "execution_count": null,
   "id": "f6b8d0a7-c423-4125-9ef6-025db86d3046",
   "metadata": {},
   "outputs": [],
   "source": [
    "from openai import OpenAI\n",
    "from minsearch import AppendableIndex"
   ]
  },
  {
   "cell_type": "code",
   "execution_count": 2,
   "id": "3a0170e7-499e-4e85-91e8-c84c0c9408b1",
   "metadata": {},
   "outputs": [],
   "source": [
    "openai_client = OpenAI()"
   ]
  },
  {
   "cell_type": "code",
   "execution_count": 3,
   "id": "c18a5dde-3c63-4bd2-a2ca-b65995550428",
   "metadata": {},
   "outputs": [],
   "source": [
    "import requests \n",
    "\n",
    "docs_url = 'https://github.com/alexeygrigorev/llm-rag-workshop/raw/main/notebooks/documents.json'\n",
    "docs_response = requests.get(docs_url)\n",
    "documents_raw = docs_response.json()\n",
    "\n",
    "documents = []\n",
    "\n",
    "for course in documents_raw:\n",
    "    course_name = course['course']\n",
    "\n",
    "    for doc in course['documents']:\n",
    "        doc['course'] = course_name\n",
    "        documents.append(doc)"
   ]
  },
  {
   "cell_type": "code",
   "execution_count": 4,
   "id": "40f889ed-bc07-46cd-b147-dce34cf63915",
   "metadata": {},
   "outputs": [
    {
     "data": {
      "text/plain": [
       "\"\\nThe difference between Index and AppendableIndex is that we can add new records to the appendable one,\\nwhile just Index can't grow after it's created.\\n\""
      ]
     },
     "execution_count": 4,
     "metadata": {},
     "output_type": "execute_result"
    }
   ],
   "source": [
    "\"\"\"\n",
    "The difference between Index and AppendableIndex is that we can add new records to the appendable one,\n",
    "while just Index can't grow after it's created.\n",
    "\"\"\""
   ]
  },
  {
   "cell_type": "code",
   "execution_count": 5,
   "id": "1f4d6e7f-7d99-4d11-9f4f-046496850960",
   "metadata": {},
   "outputs": [
    {
     "data": {
      "text/plain": [
       "<minsearch.append.AppendableIndex at 0x76cb8efbc710>"
      ]
     },
     "execution_count": 5,
     "metadata": {},
     "output_type": "execute_result"
    }
   ],
   "source": [
    "index = AppendableIndex(\n",
    "    text_fields=[\"question\", \"text\", \"section\"],\n",
    "    keyword_fields=[\"course\"]\n",
    ")\n",
    "\n",
    "index.fit(documents)"
   ]
  },
  {
   "cell_type": "code",
   "execution_count": 6,
   "id": "3549675e-3852-41f7-8e5d-954f77c8f8a9",
   "metadata": {},
   "outputs": [],
   "source": [
    "def search(query):\n",
    "    boost = {'question': 3.0, 'section': 0.5}\n",
    "\n",
    "    results = index.search(\n",
    "        query=query,\n",
    "        filter_dict={'course': 'data-engineering-zoomcamp'},\n",
    "        boost_dict=boost,\n",
    "        num_results=5,\n",
    "    )\n",
    "\n",
    "    return results"
   ]
  },
  {
   "cell_type": "code",
   "execution_count": 7,
   "id": "c77c01e9-2e66-47ba-8305-97ee21fb96b6",
   "metadata": {},
   "outputs": [],
   "source": [
    "#function calling\n",
    "search_tool = {\n",
    "    \"type\": \"function\",\n",
    "    \"name\": \"search\",\n",
    "    \"description\": \"Search the FAQ database\",\n",
    "    \"parameters\": {\n",
    "        \"type\": \"object\",\n",
    "        \"properties\": {\n",
    "            \"query\": {\n",
    "                \"type\": \"string\",\n",
    "                \"description\": \"Search query text to look up in the course FAQ.\"\n",
    "            }\n",
    "        },\n",
    "        \"required\": [\"query\"],\n",
    "        \"additionalProperties\": False\n",
    "    }\n",
    "}"
   ]
  },
  {
   "cell_type": "code",
   "execution_count": 8,
   "id": "bf7130c4-b28b-4f9b-8920-1ca6190e0987",
   "metadata": {},
   "outputs": [],
   "source": [
    "instructions = \"\"\"\n",
    "You're a course teaching assistant. \n",
    "You're given a question from a course student and your task is to answer it.\n",
    "\"\"\".strip()\n",
    "\n",
    "tools = [search_tool]\n",
    "\n",
    "question = 'I just discovered the course. Can I still join it?'\n",
    "\n",
    "chat_messages = [\n",
    "    {\"role\": \"developer\", \"content\": instructions},\n",
    "    {\"role\": \"user\", \"content\": question}\n",
    "]\n",
    "\n",
    "response = openai_client.responses.create(\n",
    "    model='gpt-4o-mini',\n",
    "    input=chat_messages,\n",
    "    tools=tools\n",
    ")\n"
   ]
  },
  {
   "cell_type": "code",
   "execution_count": 9,
   "id": "5939696e-1b63-4a02-8fa7-b308c55bf9d2",
   "metadata": {},
   "outputs": [
    {
     "data": {
      "text/plain": [
       "ResponseFunctionToolCall(arguments='{\"query\":\"Can I still join the course?\"}', call_id='call_Jblr5chCO3On87ugZE68D5L2', name='search', type='function_call', id='fc_073ea002ad2b609a0068f7d73cd0bc819faefe5279023f6dad', status='completed')"
      ]
     },
     "execution_count": 9,
     "metadata": {},
     "output_type": "execute_result"
    }
   ],
   "source": [
    "response.output[0]"
   ]
  },
  {
   "cell_type": "code",
   "execution_count": 10,
   "id": "c2ebcefe-de4a-4093-8f66-87367cf41268",
   "metadata": {},
   "outputs": [],
   "source": [
    "#Processing fuction calls"
   ]
  },
  {
   "cell_type": "code",
   "execution_count": 11,
   "id": "c2ae3943-6d3c-4484-8102-e8fd1f75a81c",
   "metadata": {},
   "outputs": [],
   "source": [
    "search_results = search(query=\"join course late\")"
   ]
  },
  {
   "cell_type": "code",
   "execution_count": 12,
   "id": "9c21100f-de92-49c6-bd98-0055cf4a4715",
   "metadata": {},
   "outputs": [],
   "source": [
    "call = response.output[0]\n",
    "chat_messages.append(call)"
   ]
  },
  {
   "cell_type": "code",
   "execution_count": 13,
   "id": "33557cda-1889-4ff7-b136-60d4e8448a6c",
   "metadata": {},
   "outputs": [],
   "source": [
    "import json \n",
    "\n",
    "search_results = search(query=\"join course late\")\n",
    "search_results_json = json.dumps(search_results)\n",
    "\n",
    "call_output = {\n",
    "    \"type\": \"function_call_output\",\n",
    "    \"call_id\": call.call_id,\n",
    "    \"output\": search_results_json,\n",
    "}\n",
    "\n",
    "chat_messages.append(call_output)"
   ]
  },
  {
   "cell_type": "code",
   "execution_count": 14,
   "id": "6768b9b0-80cf-49fe-8117-96eeab762923",
   "metadata": {},
   "outputs": [],
   "source": [
    "#send results back to the agent "
   ]
  },
  {
   "cell_type": "code",
   "execution_count": 15,
   "id": "d87b5adc-1867-4e6c-a9d7-2d00ee2d415c",
   "metadata": {},
   "outputs": [],
   "source": [
    "response = openai_client.responses.create(\n",
    "    model='gpt-4o-mini',\n",
    "    input=chat_messages,\n",
    "    tools=tools\n",
    ")"
   ]
  },
  {
   "cell_type": "code",
   "execution_count": 16,
   "id": "8f9b3042-9268-4997-8d16-9d431b5b4927",
   "metadata": {},
   "outputs": [
    {
     "data": {
      "text/plain": [
       "\"Yes, you can still join the course even if you've discovered it after the start date. You don't need to register to be eligible to submit homework. However, be mindful of deadlines for the final projects, so it's a good idea to keep up with the schedule. If you have any further questions, feel free to ask!\""
      ]
     },
     "execution_count": 16,
     "metadata": {},
     "output_type": "execute_result"
    }
   ],
   "source": [
    "response.output_text"
   ]
  },
  {
   "cell_type": "code",
   "execution_count": 17,
   "id": "cef21404-300d-4e16-b541-6909719e4e43",
   "metadata": {},
   "outputs": [],
   "source": [
    "#Adding explanations"
   ]
  },
  {
   "cell_type": "code",
   "execution_count": 18,
   "id": "0db6f7ce-0f5e-42d6-bc3e-eb98cc0e7e4e",
   "metadata": {},
   "outputs": [],
   "source": [
    "instructions = \"\"\"\n",
    "You're a course teaching assistant. \n",
    "You're given a question from a course student and your task is to answer it.\n",
    "\n",
    "If you want to look up the answer, explain why before making the call\n",
    "\"\"\".strip()"
   ]
  },
  {
   "cell_type": "code",
   "execution_count": 19,
   "id": "8f955b92-cb20-4d9f-9f8d-b73d92e0a1be",
   "metadata": {},
   "outputs": [],
   "source": [
    "tools = [search_tool]\n",
    "\n",
    "question = 'I just discovered the course. Can I still join it?'\n",
    "\n",
    "chat_messages = [\n",
    "    {\"role\": \"developer\", \"content\": instructions},\n",
    "    {\"role\": \"user\", \"content\": question}\n",
    "]\n",
    "\n",
    "response = openai_client.responses.create(\n",
    "    model='gpt-4o-mini',\n",
    "    input=chat_messages,\n",
    "    tools=tools\n",
    ")"
   ]
  },
  {
   "cell_type": "code",
   "execution_count": 20,
   "id": "833b5cb0-ba1a-41df-9cb6-844e99eba556",
   "metadata": {},
   "outputs": [
    {
     "data": {
      "text/plain": [
       "\"To provide an accurate answer to your question, I'll check the FAQ database for any information regarding late enrollment or joining the course after it has already started. This will ensure you receive the most relevant details about the enrollment process.\""
      ]
     },
     "execution_count": 20,
     "metadata": {},
     "output_type": "execute_result"
    }
   ],
   "source": [
    "response.output[0].content[0].text"
   ]
  },
  {
   "cell_type": "code",
   "execution_count": 21,
   "id": "d15d0ae5-66c2-4732-bb65-4f3119082d83",
   "metadata": {},
   "outputs": [],
   "source": [
    "#Agentic Loop "
   ]
  },
  {
   "cell_type": "code",
   "execution_count": 22,
   "id": "d331b16c-0bf0-4be2-8975-7459d4501210",
   "metadata": {},
   "outputs": [],
   "source": [
    "def make_call(call):\n",
    "    f_name = call.name\n",
    "    arguments = json.loads(call.arguments)\n",
    "\n",
    "    if f_name == 'search':\n",
    "        results = search(**arguments)\n",
    "    # if you add another function, we can put it here\n",
    "    # elif f_name == 'add_entry':\n",
    "    #    results = add_entry(**arguments)\n",
    "    else:\n",
    "        raise ValueError(f'unknown function {f_name}')\n",
    "\n",
    "    json_results = json.dumps(results)\n",
    "\n",
    "    return {\n",
    "        \"type\": \"function_call_output\",\n",
    "        \"call_id\": call.call_id,\n",
    "        \"output\": json_results,\n",
    "    }\n"
   ]
  },
  {
   "cell_type": "code",
   "execution_count": 23,
   "id": "1728fea6-8c38-47f0-93bb-969c79a4f092",
   "metadata": {},
   "outputs": [
    {
     "name": "stdout",
     "output_type": "stream",
     "text": [
      "Assistant:\n",
      "To provide you with the most accurate answer regarding course enrollment, I want to check the specific policies or FAQ related to joining the course, especially for latecomers. \n",
      "\n",
      "Let me look that up for you.\n",
      "\n",
      "Function call:\n",
      "ResponseFunctionToolCall(arguments='{\"query\":\"Can I still join the course?\"}', call_id='call_geSbwuBBAc0b9KrH8IX5Ao0B', name='search', type='function_call', id='fc_00d96629746b2dbf0068f7d7486bf0819ca23eff0a9aaaa579', status='completed')\n",
      "    Output:\n",
      "    [{\"text\": \"Yes, even if you don't register, you're still eligible to submit the homeworks.\\nBe aware, however, that there will be deadlines for turning in the final projects. So don't leave everything for the last minute.\", \"section\": \"General course-related questions\", \"question\": \"Course - Can I still join the course after the start date?\", \"course\": \"data-engineering-zoomcamp\"}, {\"text\": \"No, you can only get a certificate if you finish the course with a \\u201clive\\u201d cohort. We don't award certificates for the self-paced mode. The reason is you need to peer-review capstone(s) after submitting a project. You can only peer-review projects at the time the course is running.\", \"section\": \"General course-related questions\", \"question\": \"Certificate - Can I follow the course in a self-paced mode and get a certificate?\", \"course\": \"data-engineering-zoomcamp\"}, {\"text\": \"Yes, we will keep all the materials after the course finishes, so you can follow the course at your own pace after it finishes.\\nYou can also continue looking at the homeworks and continue preparing for the next cohort. I guess you can also start working on your final capstone project.\", \"section\": \"General course-related questions\", \"question\": \"Course - Can I follow the course after it finishes?\", \"course\": \"data-engineering-zoomcamp\"}, {\"text\": \"The purpose of this document is to capture frequently asked technical questions\\nThe exact day and hour of the course will be 15th Jan 2024 at 17h00. The course will start with the first  \\u201cOffice Hours'' live.1\\nSubscribe to course public Google Calendar (it works from Desktop only).\\nRegister before the course starts using this link.\\nJoin the course Telegram channel with announcements.\\nDon\\u2019t forget to register in DataTalks.Club's Slack and join the channel.\", \"section\": \"General course-related questions\", \"question\": \"Course - When will the course start?\", \"course\": \"data-engineering-zoomcamp\"}, {\"text\": \"You don't need it. You're accepted. You can also just start learning and submitting homework without registering. It is not checked against any registered list. Registration is just to gauge interest before the start date.\", \"section\": \"General course-related questions\", \"question\": \"Course - I have registered for the Data Engineering Bootcamp. When can I expect to receive the confirmation email?\", \"course\": \"data-engineering-zoomcamp\"}]\n",
      "\n",
      "Assistant:\n",
      "Yes, you can still join the course even if you discovered it late. You're eligible to submit assignments without needing to formally register. However, keep in mind that there are deadlines for submitting the final projects, so make sure not to leave things until the last minute.\n",
      "\n",
      "If you have any other questions or need further clarification, feel free to ask!\n",
      "\n"
     ]
    }
   ],
   "source": [
    "question = 'I just discovered the course. Can I still join it?'\n",
    "\n",
    "chat_messages = [\n",
    "    {\"role\": \"developer\", \"content\": instructions},\n",
    "    {\"role\": \"user\", \"content\": question}\n",
    "]\n",
    "\n",
    "while True:\n",
    "    response = openai_client.responses.create(\n",
    "        model='gpt-4o-mini',\n",
    "        input=chat_messages,\n",
    "        tools=tools\n",
    "    )\n",
    "\n",
    "    has_function_calls = False\n",
    "\n",
    "    # Add response to chat history for LLM's \"memory\"\n",
    "    chat_messages.extend(response.output)\n",
    "\n",
    "    for entry in response.output:\n",
    "        if entry.type == \"function_call\":\n",
    "            print('Function call:')\n",
    "            print(entry)\n",
    "            result = make_call(entry)\n",
    "            print('   ', 'Output:')\n",
    "            print('   ', result['output'])\n",
    "            chat_messages.append(result)\n",
    "            has_function_calls = True\n",
    "            print()\n",
    "\n",
    "        elif entry.type == \"message\":\n",
    "            print('Assistant:')\n",
    "            print(entry.content[0].text)\n",
    "            print()\n",
    "\n",
    "    if not has_function_calls:\n",
    "        break "
   ]
  }
 ],
 "metadata": {
  "kernelspec": {
   "display_name": "Python 3 (ipykernel)",
   "language": "python",
   "name": "python3"
  },
  "language_info": {
   "codemirror_mode": {
    "name": "ipython",
    "version": 3
   },
   "file_extension": ".py",
   "mimetype": "text/x-python",
   "name": "python",
   "nbconvert_exporter": "python",
   "pygments_lexer": "ipython3",
   "version": "3.12.1"
  }
 },
 "nbformat": 4,
 "nbformat_minor": 5
}
