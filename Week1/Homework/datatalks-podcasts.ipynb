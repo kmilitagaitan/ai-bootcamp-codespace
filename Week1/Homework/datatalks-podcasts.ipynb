{
 "cells": [
  {
   "cell_type": "code",
   "execution_count": 1,
   "id": "4837e36d-bd8e-4b7c-bb5f-98f037b31806",
   "metadata": {},
   "outputs": [],
   "source": [
    "import requests\n",
    "import json\n",
    "from minsearch import Index"
   ]
  },
  {
   "cell_type": "code",
   "execution_count": 2,
   "id": "10a99dff-958a-46a3-af60-ea867cbbf546",
   "metadata": {},
   "outputs": [],
   "source": [
    "owner = \"DataTalksClub\"\n",
    "repo = \"datatalksclub.github.io\"\n",
    "path = \"_podcast\""
   ]
  },
  {
   "cell_type": "code",
   "execution_count": 3,
   "id": "b05fc553-191c-4199-a489-eb8a19556619",
   "metadata": {},
   "outputs": [],
   "source": [
    "url = f\"https://api.github.com/repos/{owner}/{repo}/git/trees/main?recursive=1\"\n",
    "headers = {\"Accept\": \"application/vnd.github+json\"}"
   ]
  },
  {
   "cell_type": "code",
   "execution_count": 4,
   "id": "9aba434a-4118-449b-a566-f300058b76d2",
   "metadata": {},
   "outputs": [],
   "source": [
    "response = requests.get(url, headers=headers, timeout=30)\n",
    "response.raise_for_status()"
   ]
  },
  {
   "cell_type": "code",
   "execution_count": 5,
   "id": "abf84246-70bf-4436-a51c-c6054f6dc709",
   "metadata": {},
   "outputs": [],
   "source": [
    "data = response.json()\n",
    "items = data.get(\"tree\", [])"
   ]
  },
  {
   "cell_type": "code",
   "execution_count": 6,
   "id": "b7161685-5984-4e8f-b517-16c89e9a3c34",
   "metadata": {},
   "outputs": [],
   "source": [
    "podcast_files = [\n",
    "    item[\"path\"] for item in items\n",
    "    if item[\"type\"] == \"blob\"\n",
    "    and item[\"path\"].startswith(f\"{path}/\")\n",
    "    and item[\"path\"].endswith(\".md\")\n",
    "    and \"template.md\" not in item[\"path\"].lower()\n",
    "]"
   ]
  },
  {
   "cell_type": "code",
   "execution_count": 7,
   "id": "0e05625d-36e0-468d-bb0e-62171a087576",
   "metadata": {},
   "outputs": [
    {
     "name": "stdout",
     "output_type": "stream",
     "text": [
      "184\n"
     ]
    }
   ],
   "source": [
    "print(len(podcast_files))"
   ]
  },
  {
   "cell_type": "code",
   "execution_count": 8,
   "id": "934a3c68-3b40-4dac-b863-c6f420b6f3bb",
   "metadata": {},
   "outputs": [
    {
     "name": "stdout",
     "output_type": "stream",
     "text": [
      "- _podcast/_s12e08.md\n",
      "- _podcast/s01e01-roles.md\n",
      "- _podcast/s01e02-processes.md\n",
      "- _podcast/s01e03-building-ds-team.md\n",
      "- _podcast/s01e04-standing-out-as-a-data-scientist.md\n",
      "- _podcast/s01e05-mentoring.md\n",
      "- _podcast/s02e01-writing.md\n",
      "- _podcast/s02e02-developer-advocacy.md\n",
      "- _podcast/s02e03-open-source.md\n",
      "- _podcast/s02e04-mlops.md\n",
      "- _podcast/s02e05-feature-stores.md\n",
      "- _podcast/s02e06-decision-optimization.md\n",
      "- _podcast/s02e07-abc-data-science.md\n",
      "- _podcast/s02e08-personal-branding.md\n",
      "- _podcast/s02e09-roles-skills-monetizing-ml.md\n",
      "- _podcast/s02e10-public-speaking.md\n",
      "- _podcast/s02e11-dataops.md\n",
      "- _podcast/s02e12-communities.md\n",
      "- _podcast/s03e01-from-pm-to-ds.md\n",
      "- _podcast/s03e02-from-analytics-to-data-science.md\n",
      "- _podcast/s03e03-data-observability.md\n",
      "- _podcast/s03e04-effective-communication-with-business.md\n",
      "- _podcast/s03e04-interviewing-300-data-scientists.md\n",
      "- _podcast/s03e06-from-physics-to-machine-learning.md\n",
      "- _podcast/s03e07-market-yourself.md\n",
      "- _podcast/s03e08-data-led-professional.md\n",
      "- _podcast/s03e09-what-data-scientists-dont-mention.md\n",
      "- _podcast/s03e10-data-governance.md\n",
      "- _podcast/s03e11-analytics-engineer.md\n",
      "- _podcast/s04e01-from-swe-to-ml.md\n",
      "- _podcast/s04e02-build-your-own-data-pipeline.md\n",
      "- _podcast/s04e03-big-data-engineer-vs-data-scientist.md\n",
      "- _podcast/s04e04-ml-startup.md\n",
      "- _podcast/s04e05-running-from-complexity.md\n",
      "- _podcast/s04e06-humans-in-the-loop.md\n",
      "- _podcast/s04e07-launching-a-startup.md\n",
      "- _podcast/s04e08-freelancing.md\n",
      "- _podcast/s04e09-chief-data-officer.md\n",
      "- _podcast/s05e01-mastering-algorithms-and-data-structures.md\n",
      "- _podcast/s05e02-data-engineering-acronyms.md\n",
      "- _podcast/s05e03-metrics-and-kpis.md\n",
      "- _podcast/s05e04-introducing-data-science-in-startups.md\n",
      "- _podcast/s05e05-researchers-vs-engineers.md\n",
      "- _podcast/s05e06-building-and-leading-data-teams.md\n",
      "- _podcast/s05e07-ml-vs-analytics.md\n",
      "- _podcast/s05e08-the-last-mile-in-data.md\n",
      "- _podcast/s05e09-business-acumen.md\n",
      "- _podcast/s06e01-solopreneur.md\n",
      "- _podcast/s06e02-non-technical-interviews.md\n",
      "- _podcast/s06e03-manager-vs-expert.md\n",
      "- _podcast/s06e04-becoming-a-data-product-manager.md\n",
      "- _podcast/s06e05-post-doctoral-research.md\n",
      "- _podcast/s06e06-from-academia-to-industry.md\n",
      "- _podcast/s06e07-product-management-for-machine-learning.md\n",
      "- _podcast/s06e08-nlp-teams.md\n",
      "- _podcast/s06e09-data-science-manager.md\n",
      "- _podcast/s07e01-datatalksclub-behind-the-scenes.md\n",
      "- _podcast/s07e02-recruiting-data-professionals.md\n",
      "- _podcast/s07e03-product-management-essentials.md\n",
      "- _podcast/s07e04-career-coaching.md\n",
      "- _podcast/s07e05-machine-learning-system-design-interview.md\n",
      "- _podcast/s07e06-ab-testing.md\n",
      "- _podcast/s07e07-becoming-a-data-engineering-manager.md\n",
      "- _podcast/s07e08-from-data-science-to-data-engineering.md\n",
      "- _podcast/s07e09-from-math-teacher-to-analytics-engineer.md\n",
      "- _podcast/s08e01-visualising-machine-learning.md\n",
      "- _podcast/s08e02-hacking-your-data-career.md\n",
      "- _podcast/s08e03-innovation-and-design-for-machine-learning.md\n",
      "- _podcast/s08e04-machine-learning-and-personalization-in-healthcare.md\n",
      "- _podcast/s08e05-storytime-for-dataops.md\n",
      "- _podcast/s08e06-recruiting-data-engineers.md\n",
      "- _podcast/s08e07-from-roasting-coffee-to-backend-development.md\n",
      "- _podcast/s08e08-teaching-data-engineers.md\n",
      "- _podcast/s08e09-from-academia-to-data-analytics-and-engineering.md\n",
      "- _podcast/s09e01-machine-learning-in-marketing.md\n",
      "- _podcast/s09e02-using-data-for-asteroid-mining.md\n",
      "- _podcast/s09e03-getting-data-engineering-job-(summary-and-q&a).md\n",
      "- _podcast/s09e04-freelancing-and-consulting-with-data-engineering.md\n",
      "- _podcast/s09e05-data-scientists-at-work.md\n",
      "- _podcast/s09e06-developer-advocacy-engineer-for-open-source.md\n",
      "- _podcast/s09e07-designing-data-science-organization.md\n",
      "- _podcast/s09e08-from-open-source-maintainer-to-founder.md\n",
      "- _podcast/s09e09-hiring-data-science-talent.md\n",
      "- _podcast/s10e01-data-science-for-social-impact.md\n",
      "- _podcast/s10e02-decoding-data-science-job-descriptions.md\n",
      "- _podcast/s10e03-mlops-architect.md\n",
      "- _podcast/s10e04-lessons-learned-about-data-&-ai-at-enterprises.md\n",
      "- _podcast/s10e05-growing-data-engineering-team-in-scale-up.md\n",
      "- _podcast/s10e06-data-mesh-101.md\n",
      "- _podcast/s10e07-dataset-creation-and-curation.md\n",
      "- _podcast/s10e08-leading-data-research.md\n",
      "- _podcast/s10e09-responsible-and-explainable-ai.md\n",
      "- _podcast/s11e01-from-testing-phones-to-managing-nlp-projects.md\n",
      "- _podcast/s11e02-data-science-career-development.md\n",
      "- _podcast/s11e03-from-data-science-to-dataops.md\n",
      "- _podcast/s11e04-large-scale-entity-resolution.md\n",
      "- _podcast/s11e05-building-data-science-practice.md\n",
      "- _podcast/s11e06-product-owners-in-data-science.md\n",
      "- _podcast/s11e07-from-digital-marketing-to-analytics-engineering.md\n",
      "- _podcast/s11e08-technical-writing-and-data-journalism.md\n",
      "- _podcast/s11e09-teaching-and-mentoring-in-data-analytics.md\n",
      "- _podcast/s12e01-from-software-engineer-to-data-science-manager.md\n",
      "- _podcast/s12e02-business-skills-for-data-professionals.md\n",
      "- _podcast/s12e03-data-centric-ai.md\n",
      "- _podcast/s12e04-doing-software-engineering-in-academia.md\n",
      "- _podcast/s12e05-indie-hacking.md\n",
      "- _podcast/s12e06-preparing-for-data-science-interview.md\n",
      "- _podcast/s12e07-navigating-career-changes-in-machine-learning.md\n",
      "- _podcast/s12e09-staff-ai-engineer.md\n",
      "- _podcast/s13e01-accelerating-adoption-of-ai-through-diversity.md\n",
      "- _podcast/s13e02-analytics-for-better-world.md\n",
      "- _podcast/s13e03-biohacking-for-data-scientists-and-ml-engineers.md\n",
      "- _podcast/s13e04-starting-consultancy-in-data-space.md\n",
      "- _podcast/s13e05-se4ml-software-engineering-for-machine-learning.md\n",
      "- _podcast/s13e06-secret-sauce-of-data-science-management.md\n",
      "- _podcast/s13e07-mastering-self-learning-in-machine-learning.md\n",
      "- _podcast/s13e08-navigating-industrial-data-challenges.md\n",
      "- _podcast/s13e09-building-open-source-nlp-tool.md\n",
      "- _podcast/s14e01-building-scalable-and-reliable-machine-learning-systems.md\n",
      "- _podcast/s14e02-practical-data-privacy.md\n",
      "- _podcast/s14e03-data-strategy-key-principles-and-best-practices.md\n",
      "- _podcast/s14e04-data-access-management.md\n",
      "- _podcast/s14e05-lessons-learned-from-freelancing-and-working-in-start-up.md\n",
      "- _podcast/s14e06-data-developer-relations.md\n",
      "- _podcast/s14e07-from-mlops-to-dataops.md\n",
      "- _podcast/s14e08-from-scratch-to-success-building-mlops-team-and-ml-platform.md\n",
      "- _podcast/s14e09-interpretable-ai-and-ml.md\n",
      "- _podcast/s15e01-why-machine-learning-design-broken.md\n",
      "- _podcast/s15e02-investing-in-open-source-data-tools.md\n",
      "- _podcast/s15e03-llms-for-everyone.md\n",
      "- _podcast/s15e04-good-bad-and-ugly-of-gpt.md\n",
      "- _podcast/s15e05-mastering-data-engineering-as-remote-worker.md\n",
      "- _podcast/s15e06-democratizing-causality.md\n",
      "- _podcast/s15e07-pragmatic-and-standardized-mlops.md\n",
      "- _podcast/s15e08-from-data-manager-to-data-architect.md\n",
      "- _podcast/s15e09-data-engineering-for-fraud-prevention.md\n",
      "- _podcast/s16e01-datatalks-club-anniversary-interview.md\n",
      "- _podcast/s16e02-bridging-data-science-and-healthcare.md\n",
      "- _podcast/s16e03-collaborative-data-science-in-business.md\n",
      "- _podcast/s16e04-from-marketing-to-product-owner-in-search.md\n",
      "- _podcast/s16e05-from-research-scientist-at-amazon-to-machine-learning-ai-consultant.md\n",
      "- _podcast/s16e06-unwritten-rules-for-success-in-machine-learning.md\n",
      "- _podcast/s16e07-cracking-code-machine-learning-made-understandable.md\n",
      "- _podcast/s16e08-ai-for-digital-health.md\n",
      "- _podcast/s16e09-become-data-freelancer.md\n",
      "- _podcast/s17e01-entrepreneurship-journey-from-freelancing-to-starting-company.md\n",
      "- _podcast/s17e02-searching-beyond-surface-navigating-challenges-and-innovations-in-search-technologies.md\n",
      "- _podcast/s17e03-stock-market-analysis-with-python-and-machine-learning.md\n",
      "- _podcast/s17e04-bayesian-modeling-and-probabilistic-programming.md\n",
      "- _podcast/s17e05-machine-learning-engineering-in-finance.md\n",
      "- _podcast/s17e06-accelerating-job-hunt-for-perfect-job-in-tech.md\n",
      "- _podcast/s17e07-make-impact-through-volunteering-open-source-work.md\n",
      "- _podcast/s17e08-building-machine-learning-products.md\n",
      "- _podcast/s17e09-building-production-search-systems.md\n",
      "- _podcast/s18e01-inclusive-data-leadership-coaching.md\n",
      "- _podcast/s18e02-knowledge-graphs-and-llms-across-academia-and-industry.md\n",
      "- _podcast/s18e03-ai-for-ecology-biodiversity-and-conservation.md\n",
      "- _podcast/s18e04-working-in-open-source-probabl-ai-and-sklearn.md\n",
      "- _podcast/s18e05-community-building-and-teaching-in-ai-tech.md\n",
      "- _podcast/s18e07-building-domestic-risk-assessment-tool.md\n",
      "- _podcast/s18e09-dataops-observability-and-cure-for-data-team-blues.md\n",
      "- _podcast/s19e01-using-data-to-create-liveable-cities.md\n",
      "- _podcast/s19e02-human-centered-ai-for-disordered-speech-recognition.md\n",
      "- _podcast/s19e03-datatalks-club-anniversary-podcast.md\n",
      "- _podcast/s19e04-mlops-as-team.md\n",
      "- _podcast/s19e05-large-hadron-collider-and-mentorship.md\n",
      "- _podcast/s19e06-ai-in-industry-trust-return-on-investment-and-future.md\n",
      "- _podcast/s19e07-career-advice-learning-and-featuring-women-in-ml-and-ai.md\n",
      "- _podcast/s19e08-career-choices-transitions-and-promotions-in-and-out-of-tech.md\n",
      "- _podcast/s19e09-linguistics-and-fairness.md\n",
      "- _podcast/s20e01-trends-in-ai-infrastructure.md\n",
      "- _podcast/s20e02-competitive-machine-learning-and-teaching.md\n",
      "- _podcast/s20e03-trends-in-data-engineering.md\n",
      "- _podcast/s20e04-mlops-in-corporations-and-startups.md\n",
      "- _podcast/s20e05-data-intensive-ai.md\n",
      "- _podcast/s20e06-from-supply-chain-management-to-digital-warehousing-and-finops.md\n",
      "- _podcast/s20e07-build-strong-career-in-data.md\n",
      "- _podcast/s20e08-from-hackathons-to-developer-advocacy.md\n",
      "- _podcast/s20e09-taking-your-freelance-career-to-next-level.md\n",
      "- _podcast/s21e01-from-simulation-algorithms-to-production-grade-data-systems.md\n",
      "- _podcast/s21e02-mindful-data-strategy-from-pipelines-to-business-impact.md\n",
      "- _podcast/s21e03-from-medicine-to-machine-learning-how-public-learning-turned-into-career.md\n",
      "- _podcast/s21e05-from-astronomy-to-applied-ml.md\n",
      "- _podcast/s21e07-lessons-from-two-decades-of-ai.md\n"
     ]
    }
   ],
   "source": [
    "for f in podcast_files:\n",
    "    print(\"-\", f)"
   ]
  },
  {
   "cell_type": "code",
   "execution_count": 9,
   "id": "64c324dd-8cce-48f4-95e8-e373483d1141",
   "metadata": {},
   "outputs": [],
   "source": [
    "def sliding_window(seq, size, step):\n",
    "    \"\"\"Create overlapping chunks using sliding window approach.\"\"\"\n",
    "    if size <= 0 or step <= 0:\n",
    "        raise ValueError(\"size and step must be positive\")\n",
    "\n",
    "    n = len(seq)\n",
    "    result = []\n",
    "    for i in range(0, n, step):\n",
    "        batch = seq[i:i+size]\n",
    "        result.append(batch)\n",
    "        if i + size >= n:\n",
    "            break\n",
    "\n",
    "    return result"
   ]
  },
  {
   "cell_type": "code",
   "execution_count": 10,
   "id": "a59d5657-13bf-4f69-aa03-12752bd20891",
   "metadata": {},
   "outputs": [],
   "source": [
    "OWNER, REPO, PATH = \"DataTalksClub\", \"datatalksclub.github.io\", \"_podcast\"\n",
    "SIZE, OVERLAP = 30, 15\n",
    "STEP = SIZE - OVERLAP  # 15\n",
    "OUTFILE = \"podcast_chunks.json\"\n"
   ]
  },
  {
   "cell_type": "code",
   "execution_count": 11,
   "id": "0363b1bf-3e49-46af-b5b1-464eaaa7e797",
   "metadata": {},
   "outputs": [],
   "source": [
    "tree = requests.get(\n",
    "    f\"https://api.github.com/repos/{OWNER}/{REPO}/git/trees/main?recursive=1\",\n",
    "    headers={\"Accept\": \"application/vnd.github+json\"},\n",
    "    timeout=30,\n",
    ").json()"
   ]
  },
  {
   "cell_type": "code",
   "execution_count": 12,
   "id": "6bfcf934-d877-4936-8c5a-e36fe0cc9461",
   "metadata": {},
   "outputs": [],
   "source": [
    "files = [\n",
    "    it[\"path\"] for it in tree.get(\"tree\", [])\n",
    "    if it.get(\"type\") == \"blob\"\n",
    "    and it[\"path\"].startswith(f\"{PATH}/\")\n",
    "    and it[\"path\"].endswith(\".md\")\n",
    "    and \"template.md\" not in it[\"path\"].lower()\n",
    "]"
   ]
  },
  {
   "cell_type": "code",
   "execution_count": 13,
   "id": "d5cbdbe1-92db-46b7-ad1b-841719c30bea",
   "metadata": {},
   "outputs": [
    {
     "name": "stdout",
     "output_type": "stream",
     "text": [
      "Files: 184  |  Chunk size=30, overlap=15  |  Total chunks: 207\n"
     ]
    }
   ],
   "source": [
    "total_chunks = 0\n",
    "for f in files:\n",
    "    raw = requests.get(f\"https://raw.githubusercontent.com/{OWNER}/{REPO}/main/{f}\", timeout=30).text\n",
    "    paragraphs = [p.strip() for p in raw.split(\"\\n\\n\") if p.strip()]\n",
    "    total_chunks += len(sliding_window(paragraphs, SIZE, STEP))\n",
    "\n",
    "print(f\"Files: {len(files)}  |  Chunk size={SIZE}, overlap={OVERLAP}  |  Total chunks: {total_chunks}\")"
   ]
  },
  {
   "cell_type": "code",
   "execution_count": 14,
   "id": "24cc331f-e620-4044-8e8c-a0e8239be1f4",
   "metadata": {},
   "outputs": [],
   "source": [
    "all_chunks = []\n",
    "for f in files:\n",
    "    raw = requests.get(f\"https://raw.githubusercontent.com/{OWNER}/{REPO}/main/{f}\", timeout=30).text\n",
    "    paragraphs = [p.strip() for p in raw.split(\"\\n\\n\") if p.strip()]\n",
    "    for idx, chunk in enumerate(sliding_window(paragraphs, SIZE, STEP)):\n",
    "        text = \" \".join(chunk)\n",
    "        all_chunks.append({\n",
    "            \"source\": f,\n",
    "            \"chunk_id\": idx,\n",
    "            \"text\": text\n",
    "        })"
   ]
  },
  {
   "cell_type": "code",
   "execution_count": 15,
   "id": "897cd765-b74a-4517-9118-d4f30d075edd",
   "metadata": {},
   "outputs": [
    {
     "name": "stdout",
     "output_type": "stream",
     "text": [
      "Saved 207 chunks from 184 files → podcast_chunks.json\n"
     ]
    }
   ],
   "source": [
    "with open(OUTFILE, \"w\", encoding=\"utf-8\") as f:\n",
    "    json.dump(all_chunks, f, ensure_ascii=False, indent=2)\n",
    "\n",
    "print(f\"Saved {len(all_chunks)} chunks from {len(files)} files → {OUTFILE}\")"
   ]
  },
  {
   "cell_type": "code",
   "execution_count": 16,
   "id": "e016acaa-0e20-4c08-ae63-ed9c7376a0aa",
   "metadata": {},
   "outputs": [
    {
     "name": "stdout",
     "output_type": "stream",
     "text": [
      "Loaded 207 chunks\n"
     ]
    }
   ],
   "source": [
    "with open(\"podcast_chunks.json\", \"r\", encoding=\"utf-8\") as f:\n",
    "    chunks = json.load(f)\n",
    "\n",
    "print(f\"Loaded {len(chunks)} chunks\")"
   ]
  },
  {
   "cell_type": "code",
   "execution_count": 17,
   "id": "f52ccb3b-a575-4bba-8268-ae2c7dbdb493",
   "metadata": {},
   "outputs": [
    {
     "data": {
      "text/plain": [
       "<minsearch.minsearch.Index at 0x76d261993da0>"
      ]
     },
     "execution_count": 17,
     "metadata": {},
     "output_type": "execute_result"
    }
   ],
   "source": [
    "index = Index(text_fields=[\"text\"])\n",
    "index.fit(chunks)"
   ]
  },
  {
   "cell_type": "code",
   "execution_count": 18,
   "id": "f72255f8-6f37-4f65-b57c-d4b5be8a2d8d",
   "metadata": {},
   "outputs": [],
   "source": [
    "query = \"how do I make money with AI?\"\n",
    "results = index.search(query, num_results=5)"
   ]
  },
  {
   "cell_type": "code",
   "execution_count": 19,
   "id": "72a85b9f-7e12-4b98-b4d2-0ca6b9a2197b",
   "metadata": {},
   "outputs": [
    {
     "name": "stdout",
     "output_type": "stream",
     "text": [
      "\n",
      " Query: how do I make money with AI?\n",
      "\n",
      "Source: _podcast/s20e01-trends-in-ai-infrastructure.md\n",
      "Snippet: ---\n",
      "episode: 1\n",
      "guests:\n",
      "- andreycheptsov\n",
      "ids:\n",
      "  anchor: atalksclub/episodes/Redefining-AI-Infrastructure-Open-Source--Chips--and-the-Future-Beyond-Kubernetes--Andrey-Cheptsov-e2u7lc...\n",
      "\n",
      "Source: _podcast/s15e02-investing-in-open-source-data-tools.md\n",
      "Snippet: ---\n",
      "episode: 2\n",
      "guests:\n",
      "- belawiertz\n",
      "ids:\n",
      "  anchor: atatalksclub/episodes/Investing-in-Open-Source-Data-Tools---Bela-Wiertz-e274dr8\n",
      "  youtube: 7Bg1JQLnCao\n",
      "image: images/podcast/s15e...\n",
      "\n",
      "Source: _podcast/s18e03-ai-for-ecology-biodiversity-and-conservation.md\n",
      "Snippet: ---\n",
      "episode: 3\n",
      "guests:\n",
      "- tanyabergerwolf\n",
      "ids:\n",
      "  anchor: atatalksclub/episodes/AI-for-Ecology--Biodiversity--and-Conservation---Tanya-Berger-Wolf-e2inadi\n",
      "  youtube: 30tTrozbAkg\n",
      "imag...\n",
      "\n",
      "Source: _podcast/s10e09-responsible-and-explainable-ai.md\n",
      "Snippet: ---\n",
      "episode: 9\n",
      "guests:\n",
      "- supreetkaur\n",
      "ids:\n",
      "  anchor: Responsible-and-Explainable-AI---Supreet-Kaur-e1o6mgj\n",
      "  youtube: 8Eb5mG-pC3o\n",
      "image: images/podcast/s10e09-responsible-and-explai...\n",
      "\n",
      "Source: _podcast/s21e07-lessons-from-two-decades-of-ai.md\n",
      "Snippet: ---\n",
      "episode: 7\n",
      "guests:\n",
      "- micheallanham\n",
      "ids:\n",
      "  anchor: datatalksclub/episodes/Lessons-from-Two-Decades-of-AI---Micheal-Lanham-e38oarc\n",
      "  youtube: DSxqUlumM3A\n",
      "image: images/podcast/s2...\n",
      "\n"
     ]
    }
   ],
   "source": [
    "print(f\"\\n Query: {query}\\n\")\n",
    "for r in results:\n",
    "    print(f\"Source: {r['source']}\")\n",
    "    print(f\"Snippet: {r['text'][:180]}...\\n\")"
   ]
  },
  {
   "cell_type": "code",
   "execution_count": 20,
   "id": "2a2b414f-9ba5-45ad-a19d-a345b36eb1fd",
   "metadata": {},
   "outputs": [
    {
     "name": "stdout",
     "output_type": "stream",
     "text": [
      "✅ FIRST EPISODE RESULT:\n",
      "_podcast/s20e01-trends-in-ai-infrastructure.md\n"
     ]
    }
   ],
   "source": [
    "if results:\n",
    "    first = results[0]\n",
    "    print(\"✅ FIRST EPISODE RESULT:\")\n",
    "    print(first[\"source\"])"
   ]
  }
 ],
 "metadata": {
  "kernelspec": {
   "display_name": "Python 3 (ipykernel)",
   "language": "python",
   "name": "python3"
  },
  "language_info": {
   "codemirror_mode": {
    "name": "ipython",
    "version": 3
   },
   "file_extension": ".py",
   "mimetype": "text/x-python",
   "name": "python",
   "nbconvert_exporter": "python",
   "pygments_lexer": "ipython3",
   "version": "3.12.1"
  }
 },
 "nbformat": 4,
 "nbformat_minor": 5
}
